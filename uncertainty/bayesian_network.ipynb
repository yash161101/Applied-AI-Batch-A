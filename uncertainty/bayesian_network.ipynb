{
 "cells": [
  {
   "cell_type": "code",
   "execution_count": 2,
   "metadata": {},
   "outputs": [],
   "source": [
    "from pomegranate import *\n",
    "\n",
    "import numpy as np\n",
    "from pomegranate.distributions import *\n",
    "from pomegranate.bayesian_network import BayesianNetwork\n",
    "import torch"
   ]
  },
  {
   "cell_type": "code",
   "execution_count": 3,
   "metadata": {},
   "outputs": [],
   "source": [
    "# Weather in Gotham: clear, cloudy, stormy\n",
    "weather = Categorical(\n",
    "    [\n",
    "        [0.7, 0.2, 0.1],  # Probabilities for clear, cloudy, stormy\n",
    "    ]\n",
    ")\n",
    "\n",
    "# Bat-Signal activation: yes, no\n",
    "bat_signal = ConditionalCategorical(\n",
    "    [\n",
    "        [\n",
    "            [0.4, 0.6],  # Probabilities for Bat-Signal given clear weather\n",
    "            [0.2, 0.8],  # Probabilities for Bat-Signal given cloudy weather\n",
    "            [0.1, 0.9],  # Probabilities for Bat-Signal given stormy weather\n",
    "        ],\n",
    "    ]\n",
    ")\n",
    "\n",
    "# Batmobile arrival: on time, delayed\n",
    "batmobile = ConditionalCategorical(\n",
    "    [\n",
    "        [\n",
    "            [\n",
    "                [0.8, 0.2],  # Probabilities for Batmobile on time given clear weather and Bat-Signal yes\n",
    "                [0.9, 0.1],  # Probabilities for Batmobile on time given clear weather and Bat-Signal no\n",
    "            ],\n",
    "            [\n",
    "                [0.6, 0.4],  # Probabilities for Batmobile on time given cloudy weather and Bat-Signal yes\n",
    "                [0.7, 0.3],  # Probabilities for Batmobile on time given cloudy weather and Bat-Signal no\n",
    "            ],\n",
    "            [\n",
    "                [0.4, 0.6],  # Probabilities for Batmobile on time given stormy weather and Bat-Signal yes\n",
    "                [0.5, 0.5],  # Probabilities for Batmobile on time given stormy weather and Bat-Signal no\n",
    "            ],\n",
    "        ]\n",
    "    ]\n",
    ")\n",
    "\n",
    "# Crime Fighting success: success, fail\n",
    "crime_fighting = ConditionalCategorical(\n",
    "    [\n",
    "        [\n",
    "            [0.9, 0.1],  # Probabilities for crime fighting success given Batmobile on time\n",
    "            [0.6, 0.4],  # Probabilities for crime fighting success given Batmobile delayed\n",
    "        ],\n",
    "    ]\n",
    ")\n",
    "\n",
    "# Create a Bayesian Network and add states\n",
    "model = BayesianNetwork()\n",
    "model.add_distributions([weather, bat_signal, batmobile, crime_fighting])\n",
    "\n",
    "# Add edges connecting nodes\n",
    "model.add_edge(weather, bat_signal)\n",
    "model.add_edge(weather, batmobile)\n",
    "model.add_edge(bat_signal, batmobile)\n",
    "model.add_edge(batmobile, crime_fighting)"
   ]
  },
  {
   "cell_type": "code",
   "execution_count": 4,
   "metadata": {},
   "outputs": [
    {
     "name": "stdout",
     "output_type": "stream",
     "text": [
      "tensor([0.3402])\n"
     ]
    }
   ],
   "source": [
    "weather_values = [\"clear\", \"cloudy\", \"stormy\"]\n",
    "bat_signal_values = [\"yes\", \"no\"]\n",
    "batmobile_values = [\"on time\", \"delayed\"]\n",
    "crime_fighting_values = [\"success\", \"fail\"]\n",
    "\n",
    "probability = model.probability(\n",
    "    torch.as_tensor(\n",
    "        [\n",
    "            [\n",
    "                weather_values.index(\"clear\"),\n",
    "                bat_signal_values.index(\"no\"),\n",
    "                batmobile_values.index(\"on time\"),\n",
    "                crime_fighting_values.index(\"success\"),\n",
    "            ]\n",
    "        ]\n",
    "    )\n",
    ")\n",
    "\n",
    "print(probability)"
   ]
  },
  {
   "cell_type": "code",
   "execution_count": null,
   "metadata": {},
   "outputs": [],
   "source": []
  }
 ],
 "metadata": {
  "kernelspec": {
   "display_name": "aai",
   "language": "python",
   "name": "python3"
  },
  "language_info": {
   "codemirror_mode": {
    "name": "ipython",
    "version": 3
   },
   "file_extension": ".py",
   "mimetype": "text/x-python",
   "name": "python",
   "nbconvert_exporter": "python",
   "pygments_lexer": "ipython3",
   "version": "3.10.14"
  },
  "orig_nbformat": 4,
  "vscode": {
   "interpreter": {
    "hash": "f13c07b14fad073544cf30f313c5e372bd0c64a011009a03bcc2bc0bcba6863d"
   }
  }
 },
 "nbformat": 4,
 "nbformat_minor": 2
}
