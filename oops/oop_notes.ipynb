{
 "cells": [
  {
   "attachments": {},
   "cell_type": "markdown",
   "metadata": {},
   "source": [
    "# Basics"
   ]
  },
  {
   "attachments": {},
   "cell_type": "markdown",
   "metadata": {},
   "source": [
    "First lets write a simple programm to extract student name and their house"
   ]
  },
  {
   "cell_type": "code",
   "execution_count": 3,
   "metadata": {},
   "outputs": [
    {
     "name": "stdout",
     "output_type": "stream",
     "text": [
      "Harry from Gryffindor\n"
     ]
    }
   ],
   "source": [
    "name = input(\"Name: \")\n",
    "house = input(\"House: \")\n",
    "print(f\"{name} from {house}\")"
   ]
  },
  {
   "attachments": {},
   "cell_type": "markdown",
   "metadata": {},
   "source": [
    "Notice that this program follows a procedural, step-by-step paradigm. Lets make a function to make it simpler.\n",
    "\n",
    "\n",
    "Further, notice how the final lines of the code above tell the compiler to run the main function."
   ]
  },
  {
   "cell_type": "code",
   "execution_count": null,
   "metadata": {},
   "outputs": [],
   "source": [
    "def main():\n",
    "    name, house = get_student()\n",
    "    print(f\"{name} from {house}\")\n",
    "\n",
    "def get_student():\n",
    "    name = input(\"Name: \")\n",
    "    house = input(\"House: \")\n",
    "    return name, house\n",
    "\n",
    "if __name__ == \"__main__\":\n",
    "    main()"
   ]
  },
  {
   "attachments": {},
   "cell_type": "markdown",
   "metadata": {},
   "source": [
    "Explain about tuples and how we can use this function with [0] and [1] by returning (name,house)"
   ]
  },
  {
   "attachments": {},
   "cell_type": "markdown",
   "metadata": {},
   "source": [
    "Let this example fail for Padma's Example"
   ]
  },
  {
   "cell_type": "code",
   "execution_count": 2,
   "metadata": {},
   "outputs": [
    {
     "name": "stdout",
     "output_type": "stream",
     "text": [
      "Harry from Gryffindor\n"
     ]
    }
   ],
   "source": [
    "def main():\n",
    "    student = get_student()\n",
    "    if student[0] == \"Padma\":\n",
    "        student[1] = \"Ravenclaw\"\n",
    "    print(f\"{student[0]} from {student[1]}\")\n",
    "\n",
    "def get_student():\n",
    "    name = input(\"Name: \")\n",
    "    house = input(\"House: \")\n",
    "    return name, house\n",
    "\n",
    "if __name__ == \"__main__\":\n",
    "    main()"
   ]
  },
  {
   "attachments": {},
   "cell_type": "markdown",
   "metadata": {},
   "source": [
    "Explain why this works"
   ]
  },
  {
   "cell_type": "code",
   "execution_count": 5,
   "metadata": {},
   "outputs": [
    {
     "name": "stdout",
     "output_type": "stream",
     "text": [
      "Padma from Ravenclaw\n"
     ]
    }
   ],
   "source": [
    "def main():\n",
    "    student = get_student()\n",
    "    if student[0] == \"Padma\":\n",
    "        student[1] = \"Ravenclaw\"\n",
    "    print(f\"{student[0]} from {student[1]}\")\n",
    "\n",
    "def get_student():\n",
    "    name = input(\"Name: \")\n",
    "    house = input(\"House: \")\n",
    "    return [name, house]\n",
    "\n",
    "if __name__ == \"__main__\":\n",
    "    main()"
   ]
  },
  {
   "attachments": {},
   "cell_type": "markdown",
   "metadata": {},
   "source": [
    "Explain the concept of Dictinaries "
   ]
  },
  {
   "cell_type": "code",
   "execution_count": 7,
   "metadata": {},
   "outputs": [
    {
     "name": "stdout",
     "output_type": "stream",
     "text": [
      "Padma from Ravenclaw\n"
     ]
    }
   ],
   "source": [
    "def main():\n",
    "    student = get_student()\n",
    "    if student[\"name\"] == \"Padma\":\n",
    "        student[\"house\"] = \"Ravenclaw\"\n",
    "    print(f\"{student['name']} from {student['house']}\")\n",
    "\n",
    "\n",
    "def get_student():\n",
    "    name = input(\"Name: \")\n",
    "    house = input(\"House: \")\n",
    "    return {\"name\": name, \"house\": house}\n",
    "\n",
    "\n",
    "if __name__ == \"__main__\":\n",
    "    main()"
   ]
  },
  {
   "attachments": {},
   "cell_type": "markdown",
   "metadata": {},
   "source": [
    "Classes are a way by which, in object-oriented programming, we can create our own type of data and give them names.\n",
    "\n",
    "A class is like a mold for a type of data – where we can invent our own data type and give them a name.\n",
    "\n",
    "We can modify our code as follows to implement our own class called Student:"
   ]
  },
  {
   "cell_type": "code",
   "execution_count": 8,
   "metadata": {},
   "outputs": [
    {
     "name": "stdout",
     "output_type": "stream",
     "text": [
      "Harry  from Fd\n"
     ]
    }
   ],
   "source": [
    "class Student:\n",
    "    ...\n",
    "\n",
    "def main():\n",
    "    student = get_student()\n",
    "    print(f\"{student.name} from {student.house}\")\n",
    "\n",
    "def get_student():\n",
    "    student = Student()\n",
    "    student.name = input(\"Name: \")\n",
    "    student.house = input(\"House: \")\n",
    "    return student\n",
    "\n",
    "if __name__ == \"__main__\":\n",
    "    main()"
   ]
  },
  {
   "attachments": {},
   "cell_type": "markdown",
   "metadata": {},
   "source": [
    "Notice by convention that Student is capitalized. Further, notice the ... simply means that we will later return to finish that portion of our code. Further, notice that in get_student, we can create a student of class Student using the syntax student = Student(). Further, notice that we utilize “dot notation” to access attributes of this variable student of class Student.\n",
    "\n",
    "Any time you create a class and you utilize that blueprint to create something, you create what is called an “object” or an “instance”. In the case of our code, student is an object."
   ]
  },
  {
   "cell_type": "code",
   "execution_count": null,
   "metadata": {},
   "outputs": [],
   "source": [
    "class Student:\n",
    "    def __init__(self, name, house):\n",
    "        self.name = name\n",
    "        self.house = house\n",
    "\n",
    "def main():\n",
    "    student = get_student()\n",
    "    print(f\"{student.name} from {student.house}\")\n",
    "\n",
    "def get_student():\n",
    "    name = input(\"Name: \")\n",
    "    house = input(\"House: \")\n",
    "    student = Student(name, house)\n",
    "    return student\n",
    "\n",
    "if __name__ == \"__main__\":\n",
    "    main()"
   ]
  },
  {
   "attachments": {},
   "cell_type": "markdown",
   "metadata": {},
   "source": [
    "Notice that within Student, we standardize the attributes of this class. We can create a function within class Student, called a “method”, that determines the behavior of an object of class Student. Within this function, it takes the name and house passed to it and assigns these variables to this object. Further, notice how the constructor student = Student(name, house) calls this function within the Student class and creates a student. self refers to the current object that was just created"
   ]
  },
  {
   "cell_type": "code",
   "execution_count": null,
   "metadata": {},
   "outputs": [],
   "source": [
    "class Student:\n",
    "    def __init__(self, name, house):\n",
    "        if not name:\n",
    "            raise ValueError(\"Missing name\")\n",
    "        if house not in [\"Gryffindor\", \"Hufflepuff\", \"Ravenclaw\", \"Slytherin\"]:\n",
    "            raise ValueError(\"Invalid house\")\n",
    "        self.name = name\n",
    "        self.house = house\n",
    "\n",
    "def main():\n",
    "    student = get_student()\n",
    "    print(f\"{student.name} from {student.house}\")\n",
    "\n",
    "def get_student():\n",
    "    name = input(\"Name: \")\n",
    "    house = input(\"House: \")\n",
    "    return Student(name, house)\n",
    "\n",
    "if __name__ == \"__main__\":\n",
    "    main()"
   ]
  },
  {
   "cell_type": "code",
   "execution_count": 4,
   "metadata": {},
   "outputs": [
    {
     "name": "stdout",
     "output_type": "stream",
     "text": [
      "Harry from Gryffindor\n"
     ]
    }
   ],
   "source": [
    "class Student:\n",
    "    def __init__(self, name, house):\n",
    "        if not name:\n",
    "            raise ValueError(\"Missing name\")\n",
    "        if house not in [\"Gryffindor\", \"Hufflepuff\", \"Ravenclaw\", \"Slytherin\"]:\n",
    "            raise ValueError(\"Invalid house\")\n",
    "        self.name = name\n",
    "        self.house = house\n",
    "\n",
    "    def __str__(self) -> str:\n",
    "        return f\"{self.name} from {self.house}\"\n",
    "\n",
    "def main():\n",
    "    student = get_student()\n",
    "    print(student)\n",
    "\n",
    "def get_student():\n",
    "    name = input(\"Name: \")\n",
    "    house = input(\"House: \")\n",
    "    return Student(name, house)\n",
    "\n",
    "if __name__ == \"__main__\":\n",
    "    main()"
   ]
  },
  {
   "attachments": {},
   "cell_type": "markdown",
   "metadata": {},
   "source": [
    "# Class Methods\n",
    "hat.py"
   ]
  },
  {
   "cell_type": "code",
   "execution_count": 5,
   "metadata": {},
   "outputs": [
    {
     "name": "stdout",
     "output_type": "stream",
     "text": [
      "EXPECTO PATRONUM\n",
      "🐴\n"
     ]
    }
   ],
   "source": [
    "class Student:\n",
    "    def __init__(self, name, house, patronous):\n",
    "        if not name:\n",
    "            raise ValueError(\"Missing name\")\n",
    "        if house not in [\"Gryffindor\", \"Hufflepuff\", \"Ravenclaw\", \"Slytherin\"]:\n",
    "            raise ValueError(\"Invalid house\")\n",
    "        self.name = name\n",
    "        self.house = house\n",
    "        self.patronous = patronous\n",
    "\n",
    "    def __str__(self):\n",
    "        return f\"{self.name} from {self.house}\"\n",
    "    \n",
    "    def expecto_patronum(self):\n",
    "        if self.patronous == \"Stag\":\n",
    "            return \"🐴\"\n",
    "        elif self.patronous == \"Dog\":\n",
    "            return \"🐶\"\n",
    "        else:\n",
    "            return \"🦜\"\n",
    "\n",
    "def main():\n",
    "    student = get_student()\n",
    "    print(\"EXPECTO PATRONUM\")\n",
    "    print(student.expecto_patronum())\n",
    "\n",
    "def get_student():\n",
    "    name = input(\"Name: \")\n",
    "    house = input(\"House: \")\n",
    "    patronous = input(\"Patronous: \")\n",
    "    return Student(name, house, patronous)\n",
    "\n",
    "if __name__ == \"__main__\":\n",
    "    main()"
   ]
  },
  {
   "cell_type": "code",
   "execution_count": 6,
   "metadata": {},
   "outputs": [
    {
     "name": "stdout",
     "output_type": "stream",
     "text": [
      "Harry is in Ravenclaw\n"
     ]
    }
   ],
   "source": [
    "import random\n",
    "\n",
    "class Hat:\n",
    "\n",
    "    houses = [\"Gryffindor\", \"Hufflepuff\", \"Ravenclaw\", \"Slytherin\"]\n",
    "\n",
    "    @classmethod\n",
    "    def sort(cls, name):\n",
    "        print(name, \"is in\", random.choice(cls.houses))\n",
    "\n",
    "Hat.sort(\"Harry\")"
   ]
  },
  {
   "attachments": {},
   "cell_type": "markdown",
   "metadata": {},
   "source": [
    "Notice how the __init__ method is removed because we don’t need to instantiate a hat anywhere in our code. self, therefore, is no longer relevant and is removed. We specify this sort as a @classmethod, replacing self with cls. Finally, notice how Hat is capitalized by convention near the end of this code, because this is the name of our class."
   ]
  },
  {
   "attachments": {},
   "cell_type": "markdown",
   "metadata": {},
   "source": [
    "# Inheritence\n",
    "wizard.py"
   ]
  },
  {
   "cell_type": "code",
   "execution_count": 7,
   "metadata": {},
   "outputs": [
    {
     "name": "stdout",
     "output_type": "stream",
     "text": [
      "Khatam\n"
     ]
    }
   ],
   "source": [
    "class Wizard:\n",
    "    def __init__(self, name):\n",
    "        if not name:\n",
    "            raise ValueError(\"Missing name\")\n",
    "        self.name = name\n",
    "\n",
    "    ...\n",
    "\n",
    "class Student(Wizard):\n",
    "    def __init__(self, name, house):\n",
    "        super().__init__(name)\n",
    "        self.house = house\n",
    "\n",
    "    ...\n",
    "\n",
    "class Professor(Wizard):\n",
    "    def __init__(self, name, subject):\n",
    "        super().__init__(name)\n",
    "        self.subject = subject\n",
    "\n",
    "    ...\n",
    "\n",
    "student = Student(\"Harry\", \"Gryffindor\")\n",
    "professor = Professor(\"Severus\", \"Defense Against the Dark Arts\")\n",
    "wizard = Wizard(\"Albus\")\n",
    "print(\"Khatam\")"
   ]
  },
  {
   "attachments": {},
   "cell_type": "markdown",
   "metadata": {},
   "source": [
    "Inheritance is, perhaps, the most powerful feature of object-oriented programming.\n",
    "\n",
    "It just so happens that you can create a class that “inherits” methods, variables, and attributes from another class.\n",
    "\n",
    "Notice that there is a class above called Wizard and a class called Student. Further, notice that there is a class called Professor. Both students and professors have names. Also, both students and professors are wizards. Therefore, both Student and Professor inherit the characteristics of Wizard. Within the “child” class Student, Student can inherit from the “parent” or “super” class Wizard as the line super().__init__(name) runs the init method of Wizard. Finally, notice that the last lines of this code create a wizard called Albus, a student called Harry, and so on."
   ]
  }
 ],
 "metadata": {
  "kernelspec": {
   "display_name": "aai",
   "language": "python",
   "name": "python3"
  },
  "language_info": {
   "codemirror_mode": {
    "name": "ipython",
    "version": 3
   },
   "file_extension": ".py",
   "mimetype": "text/x-python",
   "name": "python",
   "nbconvert_exporter": "python",
   "pygments_lexer": "ipython3",
   "version": "3.10.14"
  },
  "vscode": {
   "interpreter": {
    "hash": "f13c07b14fad073544cf30f313c5e372bd0c64a011009a03bcc2bc0bcba6863d"
   }
  }
 },
 "nbformat": 4,
 "nbformat_minor": 2
}
